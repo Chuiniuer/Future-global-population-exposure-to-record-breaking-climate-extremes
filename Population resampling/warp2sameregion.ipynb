{
 "cells": [
  {
   "cell_type": "code",
   "execution_count": 25,
   "id": "1c818511-17e5-4cd1-a49e-3e560b17f672",
   "metadata": {},
   "outputs": [],
   "source": [
    "from osgeo import gdal "
   ]
  },
  {
   "cell_type": "code",
   "execution_count": 27,
   "id": "6ec2f7a3-c42a-47b8-9fd7-4928280e1e8a",
   "metadata": {},
   "outputs": [
    {
     "data": {
      "text/plain": [
       "'3.4.3'"
      ]
     },
     "execution_count": 27,
     "metadata": {},
     "output_type": "execute_result"
    }
   ],
   "source": [
    "gdal.__version__"
   ]
  },
  {
   "cell_type": "code",
   "execution_count": 34,
   "id": "04a0b49a-ced3-449f-bafc-78502d8eef17",
   "metadata": {},
   "outputs": [
    {
     "data": {
      "text/plain": [
       "<osgeo.gdal.Dataset; proxy of <Swig Object of type 'GDALDatasetShadow *' at 0x000002863EB953C0> >"
      ]
     },
     "execution_count": 34,
     "metadata": {},
     "output_type": "execute_result"
    }
   ],
   "source": [
    "gdal.Warp(r\"E:\\weather extreme\\人口数据\\SSP5\\Total\\2010test.tif\", r\"E:\\weather extreme\\人口数据\\SSP5\\Total\\GeoTIFF\\ssp5_2010.tif\", outputBounds=(-180, -60, 180, 90), xRes=0.125, yRes=-0.125, resampleAlg=\"bilinear\", srcNodata=2.1474836e+09, outputType=gdal.GDT_Float32, dstNodata=np.nan)"
   ]
  },
  {
   "cell_type": "code",
   "execution_count": 35,
   "id": "268d842e-e8b4-4f09-9cec-d940fbf0582e",
   "metadata": {},
   "outputs": [
    {
     "data": {
      "text/plain": [
       "<osgeo.gdal.Dataset; proxy of <Swig Object of type 'GDALDatasetShadow *' at 0x000002863EB8DF90> >"
      ]
     },
     "execution_count": 35,
     "metadata": {},
     "output_type": "execute_result"
    }
   ],
   "source": [
    "gdal.Warp(r\"E:\\weather extreme\\人口数据\\SSP5\\Total\\2010test_m.tif\", r\"E:\\weather extreme\\人口数据\\SSP5\\Total\\2010test.tif\", resampleAlg=\"sum\", xRes=0.25, yRes=0.25, outputBounds=(-180, -60, 180, 90), workingType=gdal.GDT_Float32, dstNodata=np.nan, srcNodata=np.nan)"
   ]
  },
  {
   "cell_type": "code",
   "execution_count": 28,
   "id": "aa578c5e-6e57-4290-bde3-f92edae23538",
   "metadata": {},
   "outputs": [],
   "source": [
    "#Test for correct population sampling results\n",
    "import numpy as np"
   ]
  },
  {
   "cell_type": "code",
   "execution_count": 36,
   "id": "73142fc3-11d8-493b-a2bc-46cb6aa545ce",
   "metadata": {},
   "outputs": [],
   "source": [
    "array1 = gdal.Open(r\"E:\\weather extreme\\人口数据\\SSP5\\Total\\GeoTIFF\\ssp5_2010.tif\").ReadAsArray().astype(\"float32\")\n",
    "array2 = gdal.Open(r\"E:\\weather extreme\\人口数据\\SSP5\\Total\\2010test_m.tif\").ReadAsArray().astype(\"float32\")"
   ]
  },
  {
   "cell_type": "code",
   "execution_count": 37,
   "id": "54631e26-0d58-46b6-87c3-c20923a6264d",
   "metadata": {},
   "outputs": [],
   "source": [
    "array1[array1>=2.1474000e+09] = 0"
   ]
  },
  {
   "cell_type": "code",
   "execution_count": 38,
   "id": "7545f027-10fe-425a-99e3-00ca70806b73",
   "metadata": {},
   "outputs": [
    {
     "data": {
      "text/plain": [
       "array([[0., 0., 0., ..., 0., 0., 0.],\n",
       "       [0., 0., 0., ..., 0., 0., 0.],\n",
       "       [0., 0., 0., ..., 0., 0., 0.],\n",
       "       ...,\n",
       "       [0., 0., 0., ..., 0., 0., 0.],\n",
       "       [0., 0., 0., ..., 0., 0., 0.],\n",
       "       [0., 0., 0., ..., 0., 0., 0.]], dtype=float32)"
      ]
     },
     "execution_count": 38,
     "metadata": {},
     "output_type": "execute_result"
    }
   ],
   "source": [
    "array1"
   ]
  },
  {
   "cell_type": "code",
   "execution_count": 39,
   "id": "64b5170d-59db-4668-878e-c4e7846cf385",
   "metadata": {},
   "outputs": [],
   "source": [
    "array2[array2==-9999] = 0"
   ]
  },
  {
   "cell_type": "code",
   "execution_count": 40,
   "id": "7205a579-dcec-4540-b459-b4e0b64c8b78",
   "metadata": {},
   "outputs": [
    {
     "data": {
      "text/plain": [
       "6895746600.0"
      ]
     },
     "execution_count": 40,
     "metadata": {},
     "output_type": "execute_result"
    }
   ],
   "source": [
    "array1.sum()"
   ]
  },
  {
   "cell_type": "code",
   "execution_count": 14,
   "id": "8679a2da-413f-41c5-9b8f-e62d76d5a23c",
   "metadata": {},
   "outputs": [
    {
     "data": {
      "text/plain": [
       "array([[0., 0., 0., ..., 0., 0., 0.],\n",
       "       [0., 0., 0., ..., 0., 0., 0.],\n",
       "       [0., 0., 0., ..., 0., 0., 0.],\n",
       "       ...,\n",
       "       [0., 0., 0., ..., 0., 0., 0.],\n",
       "       [0., 0., 0., ..., 0., 0., 0.],\n",
       "       [0., 0., 0., ..., 0., 0., 0.]], dtype=float32)"
      ]
     },
     "execution_count": 14,
     "metadata": {},
     "output_type": "execute_result"
    }
   ],
   "source": [
    "array2"
   ]
  },
  {
   "cell_type": "code",
   "execution_count": 25,
   "id": "0de2ba89-fad2-46ad-a108-5d81ab42b069",
   "metadata": {},
   "outputs": [
    {
     "data": {
      "text/plain": [
       "6895746600.0"
      ]
     },
     "execution_count": 25,
     "metadata": {},
     "output_type": "execute_result"
    }
   ],
   "source": [
    "array1.sum()"
   ]
  },
  {
   "cell_type": "code",
   "execution_count": 41,
   "id": "f13dbcc9-1d15-48c4-a435-414c39948767",
   "metadata": {},
   "outputs": [],
   "source": [
    "array2[np.isnan(array2)] = 0"
   ]
  },
  {
   "cell_type": "code",
   "execution_count": 42,
   "id": "2f36809c-c180-4dfa-8911-8c54484a8243",
   "metadata": {},
   "outputs": [
    {
     "data": {
      "text/plain": [
       "6895749600.0"
      ]
     },
     "execution_count": 42,
     "metadata": {},
     "output_type": "execute_result"
    }
   ],
   "source": [
    "array2.sum()"
   ]
  },
  {
   "cell_type": "code",
   "execution_count": 13,
   "id": "da2ccc77-9ab8-4749-ae07-72dda836c4f4",
   "metadata": {},
   "outputs": [
    {
     "data": {
      "text/plain": [
       "3518246.0"
      ]
     },
     "execution_count": 13,
     "metadata": {},
     "output_type": "execute_result"
    }
   ],
   "source": [
    "array2.max()"
   ]
  },
  {
   "cell_type": "code",
   "execution_count": 34,
   "id": "2ad1a197-3a9a-4270-ad3a-960c19342646",
   "metadata": {},
   "outputs": [
    {
     "data": {
      "text/plain": [
       "5056822.0"
      ]
     },
     "execution_count": 34,
     "metadata": {},
     "output_type": "execute_result"
    }
   ],
   "source": [
    "array1.max()"
   ]
  },
  {
   "cell_type": "code",
   "execution_count": null,
   "id": "113f64bf-091f-4e1e-9f79-d6cd7449397d",
   "metadata": {},
   "outputs": [],
   "source": []
  }
 ],
 "metadata": {
  "kernelspec": {
   "display_name": "Python 3 (ipykernel)",
   "language": "python",
   "name": "python3"
  },
  "language_info": {
   "codemirror_mode": {
    "name": "ipython",
    "version": 3
   },
   "file_extension": ".py",
   "mimetype": "text/x-python",
   "name": "python",
   "nbconvert_exporter": "python",
   "pygments_lexer": "ipython3",
   "version": "3.11.3"
  }
 },
 "nbformat": 4,
 "nbformat_minor": 5
}

{
 "cells": [
  {
   "cell_type": "code",
   "execution_count": 28,
   "id": "ec14e390-d578-4917-bf9d-e2b774beabec",
   "metadata": {},
   "outputs": [],
   "source": [
    "from osgeo import gdal, osr\n",
    "import numpy as np"
   ]
  },
  {
   "cell_type": "code",
   "execution_count": 29,
   "id": "a4c38cea-beba-4a1a-843b-8c9a8a5ac91b",
   "metadata": {},
   "outputs": [],
   "source": [
    "def write_2d_tif(out_name, array):\n",
    "    driver = gdal.GetDriverByName('GTiff')\n",
    "    out_tif_name = out_name\n",
    "    out_tif = driver.Create(out_tif_name, 1440, 600, 1, gdal.GDT_Float32, options=[\"COMPRESS=LZW\"])\n",
    "\n",
    "    # 设置影像的显示范围\n",
    "    geotransform = (0.125, 0.25, 0, 89.875, 0, -0.25)  # ?????\n",
    "    out_tif.SetGeoTransform(geotransform)\n",
    "\n",
    "    # 获取地理坐标系\n",
    "    srs = osr.SpatialReference()\n",
    "    srs.ImportFromEPSG(4326)  # 定义输出的坐标系统为WGS84\n",
    "    out_tif.SetProjection(srs.ExportToWkt())  # 给新建图层创建投影信息\n",
    "\n",
    "    # 数据写出\n",
    "    out_tif.GetRasterBand(1).WriteArray(array)\n",
    "    out_tif.GetRasterBand(1).SetNoDataValue(np.nan)\n",
    "    out_tif.FlushCache()\n",
    "    # print(f'output successfully')\n",
    "    del out_tif\n",
    "    "
   ]
  },
  {
   "cell_type": "code",
   "execution_count": 30,
   "id": "8a2b15d2-a9fc-4fe2-8a8a-b926c6760964",
   "metadata": {},
   "outputs": [],
   "source": [
    "ds = gdal.Open(r\"H:\\weather extreme\\compound spei heatwave\\tasmean_monthly\\monthly_tas_ACCESS-CM2_historical_1950_01.tif\")\n",
    "gt = ds.GetGeoTransform()\n",
    "proj = ds.GetProjection()\n",
    "\n",
    "ref_arr = ds.ReadAsArray()\n",
    "\n",
    "lat = np.arange(-59.875, 90.125, 0.25)[:,np.newaxis]\n",
    "out_arr = np.repeat(lat, 1440, axis=1)[::-1, :]"
   ]
  },
  {
   "cell_type": "code",
   "execution_count": 31,
   "id": "e4706436-27e0-4183-b0f4-58c9f1b65985",
   "metadata": {},
   "outputs": [],
   "source": [
    "write_2d_tif(r\"H:\\weather extreme\\compound spei heatwave\\latmask\\latmask.tif\", out_arr)"
   ]
  },
  {
   "cell_type": "code",
   "execution_count": 32,
   "id": "49f11597-7977-40d3-82fb-89e30a3b6364",
   "metadata": {},
   "outputs": [
    {
     "name": "stdout",
     "output_type": "stream",
     "text": [
      "[[ 89.875  89.875  89.875 ...  89.875  89.875  89.875]\n",
      " [ 89.625  89.625  89.625 ...  89.625  89.625  89.625]\n",
      " [ 89.375  89.375  89.375 ...  89.375  89.375  89.375]\n",
      " ...\n",
      " [-59.375 -59.375 -59.375 ... -59.375 -59.375 -59.375]\n",
      " [-59.625 -59.625 -59.625 ... -59.625 -59.625 -59.625]\n",
      " [-59.875 -59.875 -59.875 ... -59.875 -59.875 -59.875]]\n"
     ]
    }
   ],
   "source": [
    "print(out_arr)"
   ]
  },
  {
   "cell_type": "code",
   "execution_count": null,
   "id": "26806495-8e67-4926-942b-023de0dc4258",
   "metadata": {},
   "outputs": [],
   "source": []
  }
 ],
 "metadata": {
  "kernelspec": {
   "display_name": "Python 3 (ipykernel)",
   "language": "python",
   "name": "python3"
  },
  "language_info": {
   "codemirror_mode": {
    "name": "ipython",
    "version": 3
   },
   "file_extension": ".py",
   "mimetype": "text/x-python",
   "name": "python",
   "nbconvert_exporter": "python",
   "pygments_lexer": "ipython3",
   "version": "3.9.5"
  }
 },
 "nbformat": 4,
 "nbformat_minor": 5
}
